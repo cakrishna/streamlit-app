{
 "cells": [
  {
   "cell_type": "markdown",
   "id": "c5057633",
   "metadata": {
    "papermill": {
     "duration": 0.007182,
     "end_time": "2023-10-20T14:29:54.221095",
     "exception": false,
     "start_time": "2023-10-20T14:29:54.213913",
     "status": "completed"
    },
    "tags": []
   },
   "source": [
    "### Imgage Clssification Image recognition\n",
    "1) Creating a deep learning model for classifying Cats and Dogs\n",
    "* [VGG16](#)\n",
    "2) Tune parameters with\n",
    "- Dropouts\n",
    "- Early Stoppings\n",
    "- Callbacks\n",
    "- Augumentation\n",
    "- Other Regularizations\n",
    "\n"
   ]
  },
  {
   "cell_type": "markdown",
   "id": "6e56afb7",
   "metadata": {
    "papermill": {
     "duration": 0.006406,
     "end_time": "2023-10-20T14:29:54.234277",
     "exception": false,
     "start_time": "2023-10-20T14:29:54.227871",
     "status": "completed"
    },
    "tags": []
   },
   "source": [
    "# Importing Libraries"
   ]
  },
  {
   "cell_type": "code",
   "execution_count": null,
   "id": "99ee1ea3",
   "metadata": {
    "papermill": {
     "duration": 8.05338,
     "end_time": "2023-10-20T14:30:02.294453",
     "exception": false,
     "start_time": "2023-10-20T14:29:54.241073",
     "status": "completed"
    },
    "tags": []
   },
   "outputs": [
    {
     "name": "stderr",
     "output_type": "stream",
     "text": [
      "2024-11-30 05:06:41.936181: E external/local_xla/xla/stream_executor/cuda/cuda_dnn.cc:9261] Unable to register cuDNN factory: Attempting to register factory for plugin cuDNN when one has already been registered\n",
      "2024-11-30 05:06:41.936255: E external/local_xla/xla/stream_executor/cuda/cuda_fft.cc:607] Unable to register cuFFT factory: Attempting to register factory for plugin cuFFT when one has already been registered\n",
      "2024-11-30 05:06:41.939428: E external/local_xla/xla/stream_executor/cuda/cuda_blas.cc:1515] Unable to register cuBLAS factory: Attempting to register factory for plugin cuBLAS when one has already been registered\n",
      "2024-11-30 05:06:41.958531: I tensorflow/core/platform/cpu_feature_guard.cc:182] This TensorFlow binary is optimized to use available CPU instructions in performance-critical operations.\n",
      "To enable the following instructions: AVX2 FMA, in other operations, rebuild TensorFlow with the appropriate compiler flags.\n",
      "2024-11-30 05:06:42.867970: W tensorflow/compiler/tf2tensorrt/utils/py_utils.cc:38] TF-TRT Warning: Could not find TensorRT\n"
     ]
    }
   ],
   "source": [
    "# import numpy as np\n",
    "# import pandas as pd\n",
    "import tensorflow as tf\n",
    "import matplotlib.pyplot as plt\n",
    "# import cv2\n",
    "# from tensorflow.keras.preprocessing import image\n",
    "# import os\n",
    "# from tensorflow import keras\n",
    "# from tensorflow.keras import layers\n",
    "from tensorflow.python.keras.layers import Dense, Flatten\n",
    "# from tensorflow.keras.optimizers import Adam\n",
    " \n",
    "\n",
    "from tensorflow.keras.layers import Flatten,Dense,Dropout,BatchNormalization\n",
    "from tensorflow.keras.models import Model,Sequential\n",
    " "
   ]
  },
  {
   "cell_type": "code",
   "execution_count": 2,
   "id": "1f3b6c37",
   "metadata": {},
   "outputs": [
    {
     "name": "stdout",
     "output_type": "stream",
     "text": [
      "Num GPUs Available:  1\n"
     ]
    },
    {
     "name": "stderr",
     "output_type": "stream",
     "text": [
      "2024-11-30 05:06:44.320348: I external/local_xla/xla/stream_executor/cuda/cuda_executor.cc:887] could not open file to read NUMA node: /sys/bus/pci/devices/0000:09:00.0/numa_node\n",
      "Your kernel may have been built without NUMA support.\n",
      "2024-11-30 05:06:44.451283: I external/local_xla/xla/stream_executor/cuda/cuda_executor.cc:887] could not open file to read NUMA node: /sys/bus/pci/devices/0000:09:00.0/numa_node\n",
      "Your kernel may have been built without NUMA support.\n",
      "2024-11-30 05:06:44.451355: I external/local_xla/xla/stream_executor/cuda/cuda_executor.cc:887] could not open file to read NUMA node: /sys/bus/pci/devices/0000:09:00.0/numa_node\n",
      "Your kernel may have been built without NUMA support.\n"
     ]
    }
   ],
   "source": [
    "print(\"Num GPUs Available: \", len(tf.config.experimental.list_physical_devices('GPU')))"
   ]
  },
  {
   "cell_type": "markdown",
   "id": "74b117d6",
   "metadata": {
    "papermill": {
     "duration": 0.006816,
     "end_time": "2023-10-20T14:30:02.308600",
     "exception": false,
     "start_time": "2023-10-20T14:30:02.301784",
     "status": "completed"
    },
    "tags": []
   },
   "source": [
    "**Defining size**"
   ]
  },
  {
   "cell_type": "code",
   "execution_count": 3,
   "id": "ddcf5efb",
   "metadata": {
    "papermill": {
     "duration": 0.013143,
     "end_time": "2023-10-20T14:30:02.328463",
     "exception": false,
     "start_time": "2023-10-20T14:30:02.315320",
     "status": "completed"
    },
    "tags": []
   },
   "outputs": [],
   "source": [
    "batch_size = 32\n",
    "# img_height = 224\n",
    "# img_width = 224"
   ]
  },
  {
   "cell_type": "markdown",
   "id": "d170e914",
   "metadata": {
    "papermill": {
     "duration": 0.007042,
     "end_time": "2023-10-20T14:30:02.342298",
     "exception": false,
     "start_time": "2023-10-20T14:30:02.335256",
     "status": "completed"
    },
    "tags": []
   },
   "source": [
    "## Data Processing, Data Generation"
   ]
  },
  {
   "cell_type": "code",
   "execution_count": null,
   "id": "42f86e2e",
   "metadata": {},
   "outputs": [],
   "source": [
    "# Construct an instance of the ImageDataGenerator class\n",
    "# Pass the augmentation parameters through the constructor. \n",
    "\n",
    "train_datagen = tf.keras.preprocessing.image.ImageDataGenerator(\n",
    "    rotation_range=45,\n",
    "    width_shift_range=0.2,\n",
    "    height_shift_range=0.2,\n",
    "    shear_range=0.2,\n",
    "    zoom_range=0.2,\n",
    "    horizontal_flip=True,\n",
    "    rescale=1./255,\n",
    "    validation_split=0.20\n",
    ")\n",
    "\n",
    "valid_datagen = tf.keras.preprocessing.image.ImageDataGenerator(\n",
    "    rescale = 1./255,\n",
    "    validation_split=0.20\n",
    ")"
   ]
  },
  {
   "cell_type": "code",
   "execution_count": null,
   "id": "1c1df76c",
   "metadata": {},
   "outputs": [
    {
     "name": "stdout",
     "output_type": "stream",
     "text": [
      "Found 447 images belonging to 2 classes.\n",
      "Found 110 images belonging to 2 classes.\n"
     ]
    }
   ],
   "source": [
    "train_data_dir='data_ingestion/Cats_and_Dog_Images/train'\n",
    "test_data_dir='data_ingestion/Cats_and_Dog_Images/test'\n",
    "\n",
    "train = train_datagen.flow_from_directory(  \n",
    "    train_data_dir,\n",
    "    target_size=(224, 224),\n",
    "    batch_size=32,\n",
    "    shuffle=True,\n",
    "    seed=123,\n",
    "    subset='training',\n",
    "    interpolation=\"bilinear\"\n",
    ")\n",
    "\n",
    "val = valid_datagen.flow_from_directory(  \n",
    "    train_data_dir,\n",
    "    target_size=(224, 224),\n",
    "    batch_size=32,\n",
    "    shuffle=False,\n",
    "    subset='validation',\n",
    "    interpolation=\"bilinear\"\n",
    ")\n"
   ]
  },
  {
   "cell_type": "markdown",
   "id": "a29261cf",
   "metadata": {
    "papermill": {
     "duration": 0.00686,
     "end_time": "2023-10-20T14:30:20.975945",
     "exception": false,
     "start_time": "2023-10-20T14:30:20.969085",
     "status": "completed"
    },
    "tags": []
   },
   "source": [
    "**Size**"
   ]
  },
  {
   "cell_type": "code",
   "execution_count": 6,
   "id": "4ec09d49",
   "metadata": {
    "papermill": {
     "duration": 1.025179,
     "end_time": "2023-10-20T14:30:22.008080",
     "exception": false,
     "start_time": "2023-10-20T14:30:20.982901",
     "status": "completed"
    },
    "tags": []
   },
   "outputs": [
    {
     "name": "stdout",
     "output_type": "stream",
     "text": [
      "(32, 256, 256, 3)\n",
      "(32, 2)\n"
     ]
    }
   ],
   "source": [
    "for image_batch, labels_batch in train:\n",
    "  print(image_batch.shape)\n",
    "  print(labels_batch.shape)\n",
    "  break"
   ]
  },
  {
   "cell_type": "markdown",
   "id": "fa7e153b",
   "metadata": {
    "papermill": {
     "duration": 0.012973,
     "end_time": "2023-10-20T14:30:24.391302",
     "exception": false,
     "start_time": "2023-10-20T14:30:24.378329",
     "status": "completed"
    },
    "tags": []
   },
   "source": [
    "# Training Models"
   ]
  },
  {
   "cell_type": "markdown",
   "id": "43a5f4aa",
   "metadata": {
    "papermill": {
     "duration": 0.080969,
     "end_time": "2023-10-20T14:32:07.532647",
     "exception": false,
     "start_time": "2023-10-20T14:32:07.451678",
     "status": "completed"
    },
    "tags": []
   },
   "source": [
    "**VGG16 Model**"
   ]
  },
  {
   "cell_type": "code",
   "execution_count": null,
   "id": "96e6fe12",
   "metadata": {
    "papermill": {
     "duration": 2.557058,
     "end_time": "2023-10-20T14:32:10.174863",
     "exception": false,
     "start_time": "2023-10-20T14:32:07.617805",
     "status": "completed"
    },
    "tags": []
   },
   "outputs": [],
   "source": [
    "VGG_model = Sequential()\n",
    "\n",
    "pretrained_model= tf.keras.applications.VGG16(include_top=False,\n",
    "                   weights='imagenet',\n",
    "                   input_shape=(224,224,3),\n",
    "                   pooling='max',\n",
    "                   classes=2)\n",
    "\n",
    "\n",
    "VGG_model.add(pretrained_model)\n",
    "VGG_model.add(Flatten())\n",
    "VGG_model.add(Dense(512, activation='relu'))\n",
    "VGG_model.add(BatchNormalization())  # Batch Normalization layer\n",
    "VGG_model.add(Dropout(0.5)) # Dropouts\n",
    "\n",
    "VGG_model.add(Dense(2, activation='softmax'))\n",
    "pretrained_model.trainable=False"
   ]
  },
  {
   "cell_type": "code",
   "execution_count": 13,
   "id": "0a009e6c",
   "metadata": {
    "papermill": {
     "duration": 0.090754,
     "end_time": "2023-10-20T14:32:10.345870",
     "exception": false,
     "start_time": "2023-10-20T14:32:10.255116",
     "status": "completed"
    },
    "tags": []
   },
   "outputs": [],
   "source": [
    "VGG_model.compile(optimizer='adam',loss='categorical_crossentropy',metrics=['accuracy'])"
   ]
  },
  {
   "cell_type": "code",
   "execution_count": 14,
   "id": "c6e41f70",
   "metadata": {
    "papermill": {
     "duration": 0.104507,
     "end_time": "2023-10-20T14:32:10.528550",
     "exception": false,
     "start_time": "2023-10-20T14:32:10.424043",
     "status": "completed"
    },
    "tags": []
   },
   "outputs": [
    {
     "name": "stdout",
     "output_type": "stream",
     "text": [
      "Model: \"sequential_1\"\n",
      "_________________________________________________________________\n",
      " Layer (type)                Output Shape              Param #   \n",
      "=================================================================\n",
      " vgg16 (Functional)          (None, 512)               14714688  \n",
      "                                                                 \n",
      " flatten_1 (Flatten)         (None, 512)               0         \n",
      "                                                                 \n",
      " dense_2 (Dense)             (None, 512)               262656    \n",
      "                                                                 \n",
      " batch_normalization_1 (Bat  (None, 512)               2048      \n",
      " chNormalization)                                                \n",
      "                                                                 \n",
      " dropout_1 (Dropout)         (None, 512)               0         \n",
      "                                                                 \n",
      " dense_3 (Dense)             (None, 2)                 1026      \n",
      "                                                                 \n",
      "=================================================================\n",
      "Total params: 14980418 (57.15 MB)\n",
      "Trainable params: 264706 (1.01 MB)\n",
      "Non-trainable params: 14715712 (56.14 MB)\n",
      "_________________________________________________________________\n"
     ]
    }
   ],
   "source": [
    "VGG_model.summary()"
   ]
  },
  {
   "cell_type": "markdown",
   "id": "f919f15a",
   "metadata": {},
   "source": [
    "## Callbacks"
   ]
  },
  {
   "cell_type": "code",
   "execution_count": 15,
   "id": "c0a9fcde",
   "metadata": {},
   "outputs": [],
   "source": [
    "\n",
    "\n",
    "#Add Callbacks, e.g. ModelCheckpoints, earlystopping, csvlogger.\n",
    "from keras.callbacks import ModelCheckpoint, EarlyStopping, CSVLogger\n",
    "\n",
    "#ModelCheckpoint callback saves a model at some interval. \n",
    "\n",
    "#Give unique name to save all models as accuracy improves\n",
    "# filepath=\"model/weights-improvement-{epoch:02d}-{val_accuracy:.2f}.hdf5\" #File name includes epoch and validation accuracy.\n",
    "\n",
    "#Overwrite the model each time accuracy improves. Saves a lot of space. \n",
    "filepath=\"model/best_model_cats_dogs.hdf5\"\n",
    "#Use Mode = max for accuracy and min for loss. \n",
    "checkpoint = ModelCheckpoint(filepath, monitor='val_accuracy', verbose=1, save_best_only=True)\n",
    "\n",
    "#https://www.tensorflow.org/api_docs/python/tf/keras/callbacks/EarlyStopping\n",
    "early_stop = EarlyStopping(monitor='val_loss', patience=5, verbose=1)\n",
    "#This callback will stop the training when there is no improvement in\n",
    "# the validation loss for five consecutive epochs.\n",
    "\n",
    "#CSVLogger logs epoch, accuracy, loss, val_accuracy, val_loss. So we can plot later.\n",
    "log_csv = CSVLogger('my_logs.csv', separator=',', append=False)\n",
    "\n",
    "callbacks_list = [checkpoint, early_stop, log_csv]"
   ]
  },
  {
   "cell_type": "code",
   "execution_count": 16,
   "id": "082711ac",
   "metadata": {
    "papermill": {
     "duration": 247.550297,
     "end_time": "2023-10-20T14:36:18.158695",
     "exception": false,
     "start_time": "2023-10-20T14:32:10.608398",
     "status": "completed"
    },
    "tags": []
   },
   "outputs": [
    {
     "name": "stdout",
     "output_type": "stream",
     "text": [
      "Epoch 1/15\n"
     ]
    },
    {
     "name": "stderr",
     "output_type": "stream",
     "text": [
      "2024-11-30 05:08:37.471594: I external/local_xla/xla/service/service.cc:168] XLA service 0x7f9578d04de0 initialized for platform CUDA (this does not guarantee that XLA will be used). Devices:\n",
      "2024-11-30 05:08:37.471659: I external/local_xla/xla/service/service.cc:176]   StreamExecutor device (0): NVIDIA GeForce GTX 1660 Ti, Compute Capability 7.5\n",
      "2024-11-30 05:08:37.482233: I tensorflow/compiler/mlir/tensorflow/utils/dump_mlir_util.cc:269] disabling MLIR crash reproducer, set env var `MLIR_CRASH_REPRODUCER_DIRECTORY` to enable.\n",
      "WARNING: All log messages before absl::InitializeLog() is called are written to STDERR\n",
      "I0000 00:00:1732943317.600303    7490 device_compiler.h:186] Compiled cluster using XLA!  This line is logged at most once for the lifetime of the process.\n"
     ]
    },
    {
     "name": "stdout",
     "output_type": "stream",
     "text": [
      "13/13 [==============================] - ETA: 0s - loss: 0.7152 - accuracy: 0.6916\n",
      "Epoch 1: val_accuracy improved from -inf to 0.85417, saving model to model/best_model_cats_dogs.hdf5\n"
     ]
    },
    {
     "name": "stderr",
     "output_type": "stream",
     "text": [
      "/home/datas/miniconda3/envs/tf15/lib/python3.11/site-packages/keras/src/engine/training.py:3103: UserWarning: You are saving your model as an HDF5 file via `model.save()`. This file format is considered legacy. We recommend using instead the native Keras format, e.g. `model.save('my_model.keras')`.\n",
      "  saving_api.save_model(\n"
     ]
    },
    {
     "name": "stdout",
     "output_type": "stream",
     "text": [
      "13/13 [==============================] - 22s 2s/step - loss: 0.7152 - accuracy: 0.6916 - val_loss: 0.3730 - val_accuracy: 0.8542\n",
      "Epoch 2/15\n",
      "13/13 [==============================] - ETA: 0s - loss: 0.4278 - accuracy: 0.8217\n",
      "Epoch 2: val_accuracy did not improve from 0.85417\n",
      "13/13 [==============================] - 11s 856ms/step - loss: 0.4278 - accuracy: 0.8217 - val_loss: 0.3226 - val_accuracy: 0.8438\n",
      "Epoch 3/15\n",
      "13/13 [==============================] - ETA: 0s - loss: 0.3213 - accuracy: 0.8578\n",
      "Epoch 3: val_accuracy did not improve from 0.85417\n",
      "13/13 [==============================] - 11s 872ms/step - loss: 0.3213 - accuracy: 0.8578 - val_loss: 0.4569 - val_accuracy: 0.7708\n",
      "Epoch 4/15\n",
      "13/13 [==============================] - ETA: 0s - loss: 0.3151 - accuracy: 0.8843\n",
      "Epoch 4: val_accuracy improved from 0.85417 to 0.88542, saving model to model/best_model_cats_dogs.hdf5\n",
      "13/13 [==============================] - 15s 1s/step - loss: 0.3151 - accuracy: 0.8843 - val_loss: 0.2529 - val_accuracy: 0.8854\n",
      "Epoch 5/15\n",
      "13/13 [==============================] - ETA: 0s - loss: 0.2806 - accuracy: 0.9036\n",
      "Epoch 5: val_accuracy improved from 0.88542 to 0.89583, saving model to model/best_model_cats_dogs.hdf5\n",
      "13/13 [==============================] - 12s 923ms/step - loss: 0.2806 - accuracy: 0.9036 - val_loss: 0.2400 - val_accuracy: 0.8958\n",
      "Epoch 6/15\n",
      "13/13 [==============================] - ETA: 0s - loss: 0.2595 - accuracy: 0.8964\n",
      "Epoch 6: val_accuracy did not improve from 0.89583\n",
      "13/13 [==============================] - 11s 829ms/step - loss: 0.2595 - accuracy: 0.8964 - val_loss: 0.2397 - val_accuracy: 0.8854\n",
      "Epoch 7/15\n",
      "13/13 [==============================] - ETA: 0s - loss: 0.3153 - accuracy: 0.8795\n",
      "Epoch 7: val_accuracy did not improve from 0.89583\n",
      "13/13 [==============================] - 12s 884ms/step - loss: 0.3153 - accuracy: 0.8795 - val_loss: 0.2042 - val_accuracy: 0.8958\n",
      "Epoch 8/15\n",
      "13/13 [==============================] - ETA: 0s - loss: 0.2451 - accuracy: 0.8819\n",
      "Epoch 8: val_accuracy improved from 0.89583 to 0.90625, saving model to model/best_model_cats_dogs.hdf5\n",
      "13/13 [==============================] - 12s 924ms/step - loss: 0.2451 - accuracy: 0.8819 - val_loss: 0.2129 - val_accuracy: 0.9062\n",
      "Epoch 9/15\n",
      "13/13 [==============================] - ETA: 0s - loss: 0.2705 - accuracy: 0.8916\n",
      "Epoch 9: val_accuracy did not improve from 0.90625\n",
      "13/13 [==============================] - 11s 844ms/step - loss: 0.2705 - accuracy: 0.8916 - val_loss: 0.2219 - val_accuracy: 0.8750\n",
      "Epoch 10/15\n",
      "13/13 [==============================] - ETA: 0s - loss: 0.2454 - accuracy: 0.8988\n",
      "Epoch 10: val_accuracy did not improve from 0.90625\n",
      "13/13 [==============================] - 11s 838ms/step - loss: 0.2454 - accuracy: 0.8988 - val_loss: 0.2125 - val_accuracy: 0.8646\n",
      "Epoch 11/15\n",
      "13/13 [==============================] - ETA: 0s - loss: 0.2542 - accuracy: 0.8892\n",
      "Epoch 11: val_accuracy did not improve from 0.90625\n",
      "13/13 [==============================] - 11s 858ms/step - loss: 0.2542 - accuracy: 0.8892 - val_loss: 0.6042 - val_accuracy: 0.7500\n",
      "Epoch 12/15\n",
      "13/13 [==============================] - ETA: 0s - loss: 0.3108 - accuracy: 0.8602\n",
      "Epoch 12: val_accuracy improved from 0.90625 to 0.91667, saving model to model/best_model_cats_dogs.hdf5\n",
      "13/13 [==============================] - 12s 918ms/step - loss: 0.3108 - accuracy: 0.8602 - val_loss: 0.2000 - val_accuracy: 0.9167\n",
      "Epoch 13/15\n",
      "13/13 [==============================] - ETA: 0s - loss: 0.2418 - accuracy: 0.9036\n",
      "Epoch 13: val_accuracy did not improve from 0.91667\n",
      "13/13 [==============================] - 11s 833ms/step - loss: 0.2418 - accuracy: 0.9036 - val_loss: 0.1937 - val_accuracy: 0.9167\n",
      "Epoch 14/15\n",
      "13/13 [==============================] - ETA: 0s - loss: 0.2364 - accuracy: 0.9060\n",
      "Epoch 14: val_accuracy did not improve from 0.91667\n",
      "13/13 [==============================] - 11s 858ms/step - loss: 0.2364 - accuracy: 0.9060 - val_loss: 0.2445 - val_accuracy: 0.9062\n",
      "Epoch 15/15\n",
      "13/13 [==============================] - ETA: 0s - loss: 0.2152 - accuracy: 0.9036\n",
      "Epoch 15: val_accuracy did not improve from 0.91667\n",
      "13/13 [==============================] - 11s 868ms/step - loss: 0.2152 - accuracy: 0.9036 - val_loss: 0.3447 - val_accuracy: 0.8333\n"
     ]
    }
   ],
   "source": [
    "# Fit model\n",
    "\n",
    "epochs=15\n",
    "steps_per_epoch = train.samples // train.batch_size\n",
    "validation_steps = val.samples // val.batch_size\n",
    "history = VGG_model.fit(\n",
    "  train,\n",
    "  epochs=epochs,\n",
    "  steps_per_epoch=steps_per_epoch,\n",
    "  validation_steps=validation_steps,\n",
    "  validation_data=val,\n",
    "  callbacks=callbacks_list,\n",
    "  verbose=1\n",
    ")"
   ]
  },
  {
   "cell_type": "code",
   "execution_count": 18,
   "id": "cb437c55",
   "metadata": {},
   "outputs": [
    {
     "name": "stdout",
     "output_type": "stream",
     "text": [
      "13/13 [==============================] - 10s 719ms/step - loss: 0.2729 - accuracy: 0.8726\n",
      "3/3 [==============================] - 1s 385ms/step - loss: 0.3447 - accuracy: 0.8333\n",
      "Train Accuracy: 87.260 , Train Loss: 27.286 %\n",
      "Test Accuracy: 83.333 , Validation loss: 34.473 %\n"
     ]
    }
   ],
   "source": [
    "# evaluating the model\n",
    "steps_per_epoch = train.samples // train.batch_size\n",
    "validation_steps = val.samples // val.batch_size\n",
    "train_loss, train_acc = VGG_model.evaluate(train, steps=steps_per_epoch)\n",
    "validation_loss, test_acc = VGG_model.evaluate(val, steps=validation_steps)\n",
    "print('Train Accuracy: %.3f , Train Loss: %.3f' % (train_acc * 100.0 , train_loss * 100.0),'%')\n",
    "print('Test Accuracy: %.3f , Validation loss: %.3f' % (test_acc * 100.0 , validation_loss * 100.0),'%')"
   ]
  },
  {
   "cell_type": "markdown",
   "id": "18763465",
   "metadata": {
    "papermill": {
     "duration": 0.197949,
     "end_time": "2023-10-20T14:36:18.560059",
     "exception": false,
     "start_time": "2023-10-20T14:36:18.362110",
     "status": "completed"
    },
    "tags": []
   },
   "source": [
    "**Ploting Loss and Accuracy**"
   ]
  },
  {
   "cell_type": "code",
   "execution_count": 19,
   "id": "5501e0ca",
   "metadata": {
    "execution": {
     "iopub.execute_input": "2023-10-20T14:36:18.966080Z",
     "iopub.status.busy": "2023-10-20T14:36:18.965753Z",
     "iopub.status.idle": "2023-10-20T14:36:19.210779Z",
     "shell.execute_reply": "2023-10-20T14:36:19.209885Z"
    },
    "papermill": {
     "duration": 0.444911,
     "end_time": "2023-10-20T14:36:19.212675",
     "exception": false,
     "start_time": "2023-10-20T14:36:18.767764",
     "status": "completed"
    },
    "tags": []
   },
   "outputs": [
    {
     "data": {
      "image/png": "[encoded data removed]",
      "text/plain": [
       "<Figure size 640x480 with 1 Axes>"
      ]
     },
     "metadata": {},
     "output_type": "display_data"
    }
   ],
   "source": [
    "loss = history.history['loss']\n",
    "val_loss = history.history['val_loss']\n",
    "epochs = range(1, len(loss)+1)\n",
    "plt.plot(epochs, loss, 'b', label='Training loss')\n",
    "plt.plot(epochs, val_loss, 'r', label='Validation loss')\n",
    "plt.title('Training and Validation Loss')\n",
    "plt.xlabel('Epochs')\n",
    "plt.ylabel('Loss')\n",
    "plt.legend()\n",
    "plt.show()"
   ]
  },
  {
   "cell_type": "code",
   "execution_count": 20,
   "id": "fce9cb24",
   "metadata": {
    "execution": {
     "iopub.execute_input": "2023-10-20T14:36:19.691803Z",
     "iopub.status.busy": "2023-10-20T14:36:19.691474Z",
     "iopub.status.idle": "2023-10-20T14:36:19.961286Z",
     "shell.execute_reply": "2023-10-20T14:36:19.960313Z"
    },
    "papermill": {
     "duration": 0.545567,
     "end_time": "2023-10-20T14:36:19.963008",
     "exception": false,
     "start_time": "2023-10-20T14:36:19.417441",
     "status": "completed"
    },
    "tags": []
   },
   "outputs": [
    {
     "data": {
      "image/png": "[encoded data removed]",
      "text/plain": [
       "<Figure size 640x480 with 1 Axes>"
      ]
     },
     "metadata": {},
     "output_type": "display_data"
    }
   ],
   "source": [
    "acc = history.history['accuracy']\n",
    "val_acc = history.history['val_accuracy']\n",
    "plt.plot(epochs, acc, 'b', label='Training acc')\n",
    "plt.plot(epochs, val_acc, 'r', label='Validation acc')\n",
    "plt.title('Training and Validation Accuracy')\n",
    "plt.xlabel('Epochs')\n",
    "plt.ylabel('Accuracy')\n",
    "plt.legend()\n",
    "plt.show()"
   ]
  },
  {
   "cell_type": "code",
   "execution_count": 21,
   "id": "a7d6eb1b",
   "metadata": {},
   "outputs": [],
   "source": [
    "# Saving and loading models\n",
    "VGG_model.save(\"model/model_cats_dogs.h5\")\n"
   ]
  },
  {
   "cell_type": "markdown",
   "id": "9d4e4ef1",
   "metadata": {},
   "source": [
    "### load model and test"
   ]
  },
  {
   "cell_type": "raw",
   "id": "e97dc037",
   "metadata": {
    "vscode": {
     "languageId": "raw"
    }
   },
   "source": [
    "loaded_model = tf.keras.models.load_model(\"model/model.h5\")\n",
    "\n",
    "# img = image.load_img('')\n",
    "\n",
    "map_dict = {0: 'CAT',\n",
    "            1: 'DOG'}\n",
    "\n",
    "resize = tf.image.resize(img, (224,224))\n",
    "yhat = loaded_model.predict(np.expand_dims(resize/255, 0))\n",
    "max_index = np.argmax(yhat)\n",
    "labels[max_index]"
   ]
  }
 ],
 "metadata": {
  "kernelspec": {
   "display_name": "tf15",
   "language": "python",
   "name": "python3"
  },
  "language_info": {
   "codemirror_mode": {
    "name": "ipython",
    "version": 3
   },
   "file_extension": ".py",
   "mimetype": "text/x-python",
   "name": "python",
   "nbconvert_exporter": "python",
   "pygments_lexer": "ipython3",
   "version": "3.11.10"
  },
  "papermill": {
   "default_parameters": {},
   "duration": 521.772502,
   "end_time": "2023-10-20T14:38:33.067922",
   "environment_variables": {},
   "exception": null,
   "input_path": "__notebook__.ipynb",
   "output_path": "__notebook__.ipynb",
   "parameters": {},
   "start_time": "2023-10-20T14:29:51.295420",
   "version": "2.4.0"
  }
 },
 "nbformat": 4,
 "nbformat_minor": 5
}
